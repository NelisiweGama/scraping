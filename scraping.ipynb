{
 "cells": [
  {
   "cell_type": "code",
   "execution_count": 6,
   "metadata": {},
   "outputs": [],
   "source": [
    "import requests\n",
    "import urllib.request\n",
    "import time\n",
    "from bs4 import BeautifulSoup\n",
    "import re\n",
    "import csv"
   ]
  },
  {
   "cell_type": "code",
   "execution_count": 7,
   "metadata": {},
   "outputs": [],
   "source": [
    "url = 'https://www.bible.com/en-GB/bible/111/PSA.1.NIV'"
   ]
  },
  {
   "cell_type": "code",
   "execution_count": 8,
   "metadata": {},
   "outputs": [],
   "source": [
    "response = requests.get(url)"
   ]
  },
  {
   "cell_type": "code",
   "execution_count": 9,
   "metadata": {},
   "outputs": [
    {
     "data": {
      "text/plain": [
       "<Response [200]>"
      ]
     },
     "execution_count": 9,
     "metadata": {},
     "output_type": "execute_result"
    }
   ],
   "source": [
    "response"
   ]
  },
  {
   "cell_type": "code",
   "execution_count": 10,
   "metadata": {},
   "outputs": [],
   "source": [
    "soup = BeautifulSoup(response.text, 'html.parser')"
   ]
  },
  {
   "cell_type": "code",
   "execution_count": 19,
   "metadata": {},
   "outputs": [],
   "source": [
    "chapter = soup.findAll('div', class_ = 'chapter ch1')"
   ]
  },
  {
   "cell_type": "code",
   "execution_count": 14,
   "metadata": {
    "scrolled": false
   },
   "outputs": [],
   "source": [
    "chapter"
   ]
  },
  {
   "cell_type": "code",
   "execution_count": 20,
   "metadata": {},
   "outputs": [],
   "source": [
    "# pslm = soup.findAll('div', class_ = 'book bkPSA')"
   ]
  },
  {
   "cell_type": "code",
   "execution_count": 21,
   "metadata": {},
   "outputs": [],
   "source": [
    "# pslm[0].findAll('span', class_ = 'content')"
   ]
  },
  {
   "cell_type": "code",
   "execution_count": 22,
   "metadata": {},
   "outputs": [
    {
     "data": {
      "text/plain": [
       "[<span class=\"heading\">BOOK I</span>,\n",
       " <span class=\"heading\"> </span>,\n",
       " <span class=\"heading\">Psalms 1–41</span>,\n",
       " <span class=\"heading\">Psalm 1</span>,\n",
       " <span class=\"content\"> </span>,\n",
       " <span class=\"verse v1\" data-usfm=\"PSA.1.1\"><span class=\"label\">1</span><span class=\"content\">Blessed is the one</span></span>,\n",
       " <span class=\"label\">1</span>,\n",
       " <span class=\"content\">Blessed is the one</span>,\n",
       " <span class=\"verse v1\" data-usfm=\"PSA.1.1\"><span class=\"content\">who does not walk in step with the wicked</span></span>,\n",
       " <span class=\"content\">who does not walk in step with the wicked</span>,\n",
       " <span class=\"verse v1\" data-usfm=\"PSA.1.1\"><span class=\"content\">or stand in the way that sinners take</span></span>,\n",
       " <span class=\"content\">or stand in the way that sinners take</span>,\n",
       " <span class=\"verse v1\" data-usfm=\"PSA.1.1\"><span class=\"content\">or sit in the company of mockers,</span></span>,\n",
       " <span class=\"content\">or sit in the company of mockers,</span>,\n",
       " <span class=\"verse v1\" data-usfm=\"PSA.1.1\"><span class=\"content\"> </span></span>,\n",
       " <span class=\"content\"> </span>,\n",
       " <span class=\"verse v2\" data-usfm=\"PSA.1.2\"><span class=\"label\">2</span><span class=\"content\">but whose delight is in the law of the </span><span class=\"nd\"><span class=\"content\">Lord</span></span><span class=\"content\">,</span></span>,\n",
       " <span class=\"label\">2</span>,\n",
       " <span class=\"content\">but whose delight is in the law of the </span>,\n",
       " <span class=\"nd\"><span class=\"content\">Lord</span></span>,\n",
       " <span class=\"content\">Lord</span>,\n",
       " <span class=\"content\">,</span>,\n",
       " <span class=\"verse v2\" data-usfm=\"PSA.1.2\"><span class=\"content\">and who meditates on his law day and night.</span></span>,\n",
       " <span class=\"content\">and who meditates on his law day and night.</span>,\n",
       " <span class=\"verse v2\" data-usfm=\"PSA.1.2\"><span class=\"content\"> </span></span>,\n",
       " <span class=\"content\"> </span>,\n",
       " <span class=\"verse v3\" data-usfm=\"PSA.1.3\"><span class=\"label\">3</span><span class=\"content\">That person is like a tree planted by streams of water,</span></span>,\n",
       " <span class=\"label\">3</span>,\n",
       " <span class=\"content\">That person is like a tree planted by streams of water,</span>,\n",
       " <span class=\"verse v3\" data-usfm=\"PSA.1.3\"><span class=\"content\">which yields its fruit in season</span></span>,\n",
       " <span class=\"content\">which yields its fruit in season</span>,\n",
       " <span class=\"verse v3\" data-usfm=\"PSA.1.3\"><span class=\"content\">and whose leaf does not wither—</span></span>,\n",
       " <span class=\"content\">and whose leaf does not wither—</span>,\n",
       " <span class=\"verse v3\" data-usfm=\"PSA.1.3\"><span class=\"content\">whatever they do prospers.</span></span>,\n",
       " <span class=\"content\">whatever they do prospers.</span>,\n",
       " <span class=\"verse v3\" data-usfm=\"PSA.1.3\"><span class=\"content\"> </span></span>,\n",
       " <span class=\"content\"> </span>,\n",
       " <span class=\"verse v4\" data-usfm=\"PSA.1.4\"><span class=\"label\">4</span><span class=\"content\">Not so the wicked!</span></span>,\n",
       " <span class=\"label\">4</span>,\n",
       " <span class=\"content\">Not so the wicked!</span>,\n",
       " <span class=\"verse v4\" data-usfm=\"PSA.1.4\"><span class=\"content\">They are like chaff</span></span>,\n",
       " <span class=\"content\">They are like chaff</span>,\n",
       " <span class=\"verse v4\" data-usfm=\"PSA.1.4\"><span class=\"content\">that the wind blows away.</span></span>,\n",
       " <span class=\"content\">that the wind blows away.</span>,\n",
       " <span class=\"verse v4\" data-usfm=\"PSA.1.4\"><span class=\"content\"> </span></span>,\n",
       " <span class=\"content\"> </span>,\n",
       " <span class=\"verse v5\" data-usfm=\"PSA.1.5\"><span class=\"label\">5</span><span class=\"content\">Therefore the wicked will not stand in the judgment,</span></span>,\n",
       " <span class=\"label\">5</span>,\n",
       " <span class=\"content\">Therefore the wicked will not stand in the judgment,</span>,\n",
       " <span class=\"verse v5\" data-usfm=\"PSA.1.5\"><span class=\"content\">nor sinners in the assembly of the righteous.</span></span>,\n",
       " <span class=\"content\">nor sinners in the assembly of the righteous.</span>,\n",
       " <span class=\"verse v5\" data-usfm=\"PSA.1.5\"><span class=\"content\"> </span></span>,\n",
       " <span class=\"content\"> </span>,\n",
       " <span class=\"verse v6\" data-usfm=\"PSA.1.6\"><span class=\"label\">6</span><span class=\"content\">For the </span><span class=\"nd\"><span class=\"content\">Lord</span></span><span class=\"content\"> watches over the way of the righteous,</span></span>,\n",
       " <span class=\"label\">6</span>,\n",
       " <span class=\"content\">For the </span>,\n",
       " <span class=\"nd\"><span class=\"content\">Lord</span></span>,\n",
       " <span class=\"content\">Lord</span>,\n",
       " <span class=\"content\"> watches over the way of the righteous,</span>,\n",
       " <span class=\"verse v6\" data-usfm=\"PSA.1.6\"><span class=\"content\">but the way of the wicked leads to destruction.</span></span>,\n",
       " <span class=\"content\">but the way of the wicked leads to destruction.</span>]"
      ]
     },
     "execution_count": 22,
     "metadata": {},
     "output_type": "execute_result"
    }
   ],
   "source": [
    "chapter[0].findAll('span') "
   ]
  },
  {
   "cell_type": "code",
   "execution_count": 23,
   "metadata": {},
   "outputs": [
    {
     "data": {
      "text/plain": [
       "[<span class=\"verse v1\" data-usfm=\"PSA.1.1\"><span class=\"label\">1</span><span class=\"content\">Blessed is the one</span></span>,\n",
       " <span class=\"verse v1\" data-usfm=\"PSA.1.1\"><span class=\"content\">who does not walk in step with the wicked</span></span>,\n",
       " <span class=\"verse v1\" data-usfm=\"PSA.1.1\"><span class=\"content\">or stand in the way that sinners take</span></span>,\n",
       " <span class=\"verse v1\" data-usfm=\"PSA.1.1\"><span class=\"content\">or sit in the company of mockers,</span></span>,\n",
       " <span class=\"verse v1\" data-usfm=\"PSA.1.1\"><span class=\"content\"> </span></span>]"
      ]
     },
     "execution_count": 23,
     "metadata": {},
     "output_type": "execute_result"
    }
   ],
   "source": [
    "chapter[0].findAll('span', class_ = 'verse v1') #+str(1)"
   ]
  },
  {
   "cell_type": "code",
   "execution_count": 96,
   "metadata": {},
   "outputs": [
    {
     "data": {
      "text/plain": [
       "6"
      ]
     },
     "execution_count": 96,
     "metadata": {},
     "output_type": "execute_result"
    }
   ],
   "source": []
  },
  {
   "cell_type": "code",
   "execution_count": 24,
   "metadata": {},
   "outputs": [],
   "source": [
    "#writing each chapter to csv, for each chapter\n",
    "#write below code as a function that takes in chapter in a list of length 1\n",
    "#this chapter is return from getNextChapter function\n",
    "# getNextChapter takes current page body by sending request,\n",
    "# and gets url of next chapter, then returns the chapter in a list of length 1\n",
    "\n",
    "\n",
    "# \n",
    "#\n",
    "#\n",
    "#\n",
    "\n",
    "\n"
   ]
  },
  {
   "cell_type": "code",
   "execution_count": 155,
   "metadata": {},
   "outputs": [],
   "source": [
    "next_btn = soup.find('a', class_ = 'bible-nav-button nav-right fixed dim br-100 ba b--black-20 pa2 pa3-m flex items-center justify-center bg-white right-1').get('href')\n",
    "# bible-nav-button nav-right fixed dim br-100 ba b--black-20 pa2 pa3-m flex items-center justify-center bg-white right-1"
   ]
  },
  {
   "cell_type": "code",
   "execution_count": 156,
   "metadata": {},
   "outputs": [
    {
     "data": {
      "text/plain": [
       "'/en-GB/bible/111/PSA.2.NIV'"
      ]
     },
     "execution_count": 156,
     "metadata": {},
     "output_type": "execute_result"
    }
   ],
   "source": [
    "next_btn     #https://www.bible.com/en-GB/bible/111/PSA.2.NIV"
   ]
  },
  {
   "cell_type": "code",
   "execution_count": null,
   "metadata": {},
   "outputs": [],
   "source": [
    "link = 'https://www.bible.com/'+ next_btn"
   ]
  },
  {
   "cell_type": "code",
   "execution_count": null,
   "metadata": {},
   "outputs": [],
   "source": [
    "#this chapter is return from getNextChapter function\n",
    "# getNextChapter takes current page body response by sending request,\n",
    "# and gets url of next chapter, then returns the soup\n",
    "\n",
    "def getNextChapter(res):\n",
    "    soup = BeautifulSoup(res.text, 'html.parser')\n",
    "    next_btn = soup.find('a', class_ = 'bible-nav-button nav-right fixed dim br-100 ba b--black-20 pa2 pa3-m flex items-center justify-center bg-white right-1').get('href')\n",
    "    link = 'https://www.bible.com/'+ next_btn\n",
    "    response = requests.get(url)\n",
    "    bsp = BeautifulSoup(response.text, 'html.parser')\n",
    "    return bsp"
   ]
  },
  {
   "cell_type": "code",
   "execution_count": null,
   "metadata": {},
   "outputs": [],
   "source": [
    "#writing each chapter to csv, for each chapter\n",
    "#write below code as a function that takes in chapter in a list of length 1\n",
    "\n",
    "def scrape_to_csv(soup):\n",
    "    chapter = soup.findAll('div', class_ = 'chapter ch'+str(chpt))\n",
    "    scriptures = []\n",
    "    with open('chaptet1.csv', 'a', newline='') as file:\n",
    "        writer = csv.writer(file)\n",
    "        for i in range(0,len(chapter[0].findAll('span', class_ = 'label'))):\n",
    "            verse = []\n",
    "            for x in chapter[0].findAll('span', class_ = 'verse v'+str(i+1)):\n",
    "                verse.append(re.sub(r'\\d+', '', x.text)) # append parts of verse\n",
    "            v_final = ' '.join(verse)\n",
    "            scriptures.append(v_final)\n",
    "            writer.writerow(['Verse '+str(i+1), scriptures[i]])\n"
   ]
  },
  {
   "cell_type": "code",
   "execution_count": null,
   "metadata": {},
   "outputs": [],
   "source": [
    "# FLOW\n",
    "# request page, get body and chapter content, scrape chapter 1 and write to csv\n",
    "# call getNextChapter for chpt 2\n",
    "# now we have chapter 2 in a list\n",
    "# we set chpt = 2, then in a while loop :\n",
    "\n",
    "# while chpt <=150 then call scraper/writer function\n",
    "# this writes chpt content to csv\n",
    "# then call get next chapter function\n",
    "# which returns content of chtp 3\n",
    "# now we have chapter 3 in a list\n",
    "# then we increment chpt ++\n",
    "url = 'https://www.bible.com/en-GB/bible/111/PSA.1.NIV'\n",
    "\n",
    "response = requests.get(url)\n",
    "soup = BeautifulSoup(response.text, 'html.parser')\n",
    "chapter = soup.findAll('div', class_ = 'chapter ch1')\n",
    "chapter[0].findAll('span', class_ = 'verse v1') #+str(1)\n",
    "\n",
    "with open('chaptet1.csv', 'a', newline='') as file:\n",
    "    writer = csv.writer(file)\n",
    "    writer.writerow(['VERSE', 'SCRIPTURE'])    \n",
    "    \n",
    "scriptures = []\n",
    "with open('chaptet1.csv', 'a', newline='') as file:\n",
    "    writer = csv.writer(file)\n",
    "    for i in range(0,len(chapter[0].findAll('span', class_ = 'label'))):\n",
    "        verse = []\n",
    "        for x in chapter[0].findAll('span', class_ = 'verse v'+str(i+1)):\n",
    "            verse.append(re.sub(r'\\d+', '', x.text)) # append parts of verse\n",
    "        v_final = ' '.join(verse)\n",
    "        scriptures.append(v_final)\n",
    "        writer.writerow(['Verse '+str(i+1), scriptures[i]])\n",
    "\n"
   ]
  },
  {
   "cell_type": "markdown",
   "metadata": {},
   "source": [
    "#### Load first page\n",
    "#### Scrape chapter\n",
    "#### Get next chapter url\n",
    "#### Load next page\n",
    "#### Scrape charpe"
   ]
  },
  {
   "cell_type": "code",
   "execution_count": null,
   "metadata": {},
   "outputs": [],
   "source": []
  }
 ],
 "metadata": {
  "kernelspec": {
   "display_name": "Python 3",
   "language": "python",
   "name": "python3"
  },
  "language_info": {
   "codemirror_mode": {
    "name": "ipython",
    "version": 3
   },
   "file_extension": ".py",
   "mimetype": "text/x-python",
   "name": "python",
   "nbconvert_exporter": "python",
   "pygments_lexer": "ipython3",
   "version": "3.7.0"
  }
 },
 "nbformat": 4,
 "nbformat_minor": 2
}
